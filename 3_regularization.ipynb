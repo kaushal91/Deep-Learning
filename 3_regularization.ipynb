{
 "cells": [
  {
   "cell_type": "markdown",
   "metadata": {
    "colab_type": "text",
    "id": "kR-4eNdK6lYS"
   },
   "source": [
    "Deep Learning\n",
    "=============\n",
    "\n",
    "Assignment 3\n",
    "------------\n",
    "\n",
    "Previously in `2_fullyconnected.ipynb`, you trained a logistic regression and a neural network model.\n",
    "\n",
    "The goal of this assignment is to explore regularization techniques."
   ]
  },
  {
   "cell_type": "code",
   "execution_count": 1,
   "metadata": {
    "cellView": "both",
    "colab": {
     "autoexec": {
      "startup": false,
      "wait_interval": 0
     }
    },
    "colab_type": "code",
    "collapsed": true,
    "id": "JLpLa8Jt7Vu4"
   },
   "outputs": [],
   "source": [
    "# These are all the modules we'll be using later. Make sure you can import them\n",
    "# before proceeding further.\n",
    "from __future__ import print_function\n",
    "import numpy as np\n",
    "import tensorflow as tf\n",
    "from six.moves import cPickle as pickle"
   ]
  },
  {
   "cell_type": "markdown",
   "metadata": {
    "colab_type": "text",
    "id": "1HrCK6e17WzV"
   },
   "source": [
    "First reload the data we generated in _notmist.ipynb_."
   ]
  },
  {
   "cell_type": "code",
   "execution_count": 2,
   "metadata": {
    "cellView": "both",
    "colab": {
     "autoexec": {
      "startup": false,
      "wait_interval": 0
     },
     "output_extras": [
      {
       "item_id": 1
      }
     ]
    },
    "colab_type": "code",
    "collapsed": false,
    "executionInfo": {
     "elapsed": 11777,
     "status": "ok",
     "timestamp": 1449849322348,
     "user": {
      "color": "",
      "displayName": "",
      "isAnonymous": false,
      "isMe": true,
      "permissionId": "",
      "photoUrl": "",
      "sessionId": "0",
      "userId": ""
     },
     "user_tz": 480
    },
    "id": "y3-cj1bpmuxc",
    "outputId": "e03576f1-ebbe-4838-c388-f1777bcc9873"
   },
   "outputs": [
    {
     "name": "stdout",
     "output_type": "stream",
     "text": [
      "Training set (200000, 28, 28) (200000,)\n",
      "Validation set (10000, 28, 28) (10000,)\n",
      "Test set (10000, 28, 28) (10000,)\n"
     ]
    }
   ],
   "source": [
    "pickle_file = 'notMNIST.pickle'\n",
    "\n",
    "with open(pickle_file, 'rb') as f:\n",
    "  save = pickle.load(f)\n",
    "  train_dataset = save['train_dataset']\n",
    "  train_labels = save['train_labels']\n",
    "  valid_dataset = save['valid_dataset']\n",
    "  valid_labels = save['valid_labels']\n",
    "  test_dataset = save['test_dataset']\n",
    "  test_labels = save['test_labels']\n",
    "  del save  # hint to help gc free up memory\n",
    "  print('Training set', train_dataset.shape, train_labels.shape)\n",
    "  print('Validation set', valid_dataset.shape, valid_labels.shape)\n",
    "  print('Test set', test_dataset.shape, test_labels.shape)"
   ]
  },
  {
   "cell_type": "markdown",
   "metadata": {
    "colab_type": "text",
    "id": "L7aHrm6nGDMB"
   },
   "source": [
    "Reformat into a shape that's more adapted to the models we're going to train:\n",
    "- data as a flat matrix,\n",
    "- labels as float 1-hot encodings."
   ]
  },
  {
   "cell_type": "code",
   "execution_count": 3,
   "metadata": {
    "cellView": "both",
    "colab": {
     "autoexec": {
      "startup": false,
      "wait_interval": 0
     },
     "output_extras": [
      {
       "item_id": 1
      }
     ]
    },
    "colab_type": "code",
    "collapsed": false,
    "executionInfo": {
     "elapsed": 11728,
     "status": "ok",
     "timestamp": 1449849322356,
     "user": {
      "color": "",
      "displayName": "",
      "isAnonymous": false,
      "isMe": true,
      "permissionId": "",
      "photoUrl": "",
      "sessionId": "0",
      "userId": ""
     },
     "user_tz": 480
    },
    "id": "IRSyYiIIGIzS",
    "outputId": "3f8996ee-3574-4f44-c953-5c8a04636582"
   },
   "outputs": [
    {
     "name": "stdout",
     "output_type": "stream",
     "text": [
      "Training set (200000, 784) (200000, 10)\n",
      "Validation set (10000, 784) (10000, 10)\n",
      "Test set (10000, 784) (10000, 10)\n"
     ]
    }
   ],
   "source": [
    "image_size = 28\n",
    "num_labels = 10\n",
    "\n",
    "def reformat(dataset, labels):\n",
    "  dataset = dataset.reshape((-1, image_size * image_size)).astype(np.float32)\n",
    "  # Map 1 to [0.0, 1.0, 0.0 ...], 2 to [0.0, 0.0, 1.0 ...]\n",
    "  labels = (np.arange(num_labels) == labels[:,None]).astype(np.float32)\n",
    "  return dataset, labels\n",
    "train_dataset, train_labels = reformat(train_dataset, train_labels)\n",
    "valid_dataset, valid_labels = reformat(valid_dataset, valid_labels)\n",
    "test_dataset, test_labels = reformat(test_dataset, test_labels)\n",
    "print('Training set', train_dataset.shape, train_labels.shape)\n",
    "print('Validation set', valid_dataset.shape, valid_labels.shape)\n",
    "print('Test set', test_dataset.shape, test_labels.shape)"
   ]
  },
  {
   "cell_type": "code",
   "execution_count": 4,
   "metadata": {
    "cellView": "both",
    "colab": {
     "autoexec": {
      "startup": false,
      "wait_interval": 0
     }
    },
    "colab_type": "code",
    "collapsed": true,
    "id": "RajPLaL_ZW6w"
   },
   "outputs": [],
   "source": [
    "def accuracy(predictions, labels):\n",
    "  return (100.0 * np.sum(np.argmax(predictions, 1) == np.argmax(labels, 1))\n",
    "          / predictions.shape[0])"
   ]
  },
  {
   "cell_type": "markdown",
   "metadata": {
    "colab_type": "text",
    "id": "sgLbUAQ1CW-1"
   },
   "source": [
    "---\n",
    "Problem 1\n",
    "---------\n",
    "\n",
    "Introduce and tune L2 regularization for both logistic and neural network models. Remember that L2 amounts to adding a penalty on the norm of the weights to the loss. In TensorFlow, you can compute the L2 loss for a tensor `t` using `nn.l2_loss(t)`. The right amount of regularization should improve your validation / test accuracy."
   ]
  },
  {
   "cell_type": "code",
   "execution_count": 5,
   "metadata": {
    "collapsed": false
   },
   "outputs": [
    {
     "name": "stdout",
     "output_type": "stream",
     "text": [
      "Initialized\n",
      "Minibatch loss at step 0: 44.960464\n",
      "Minibatch accuracy: 11.7%\n",
      "Validation accuracy: 15.1%\n",
      "Minibatch loss at step 500: 0.851512\n",
      "Minibatch accuracy: 82.8%\n",
      "Validation accuracy: 81.3%\n",
      "Minibatch loss at step 1000: 0.926723\n",
      "Minibatch accuracy: 78.9%\n",
      "Validation accuracy: 81.5%\n",
      "Minibatch loss at step 1500: 0.935863\n",
      "Minibatch accuracy: 81.2%\n",
      "Validation accuracy: 81.2%\n",
      "Minibatch loss at step 2000: 0.756207\n",
      "Minibatch accuracy: 82.8%\n",
      "Validation accuracy: 80.8%\n",
      "Minibatch loss at step 2500: 0.704028\n",
      "Minibatch accuracy: 81.2%\n",
      "Validation accuracy: 80.5%\n",
      "Minibatch loss at step 3000: 0.668511\n",
      "Minibatch accuracy: 85.2%\n",
      "Validation accuracy: 81.0%\n",
      "Test accuracy: 88.0%\n"
     ]
    }
   ],
   "source": [
    "# L2 regularization for logistic regression model.\n",
    "# After testing a range of values, the hyperparameter 0.01 was chosen to roughly maximize validation set accuracy.\n",
    "\n",
    "num_steps = 3001\n",
    "batch_size = 128\n",
    "\n",
    "def accuracy(predictions, labels):\n",
    "    return (100.0 * np.sum(np.argmax(predictions, 1) == np.argmax(labels, 1)) / predictions.shape[0])\n",
    "\n",
    "graph = tf.Graph()\n",
    "with graph.as_default():\n",
    "    tf_x = tf.placeholder(tf.float32, shape=(None, image_size * image_size))\n",
    "    tf_labels = tf.placeholder(tf.float32, shape=(None, num_labels))\n",
    "\n",
    "    w_fc1 = tf.Variable(tf.truncated_normal([image_size * image_size, num_labels]))\n",
    "    b_fc1 = tf.Variable(tf.zeros([num_labels]))\n",
    "    tf_y = tf.matmul(tf_x, w_fc1) + b_fc1\n",
    "\n",
    "    loss = tf.reduce_mean(tf.nn.softmax_cross_entropy_with_logits(tf_y, tf_labels)) + 0.01*tf.nn.l2_loss(w_fc1)\n",
    "    optimizer = tf.train.GradientDescentOptimizer(0.5).minimize(loss)\n",
    "\n",
    "    tf_predictions = tf.nn.softmax(tf_y)\n",
    "\n",
    "with tf.Session(graph=graph) as session:\n",
    "    tf.global_variables_initializer().run()\n",
    "    print(\"Initialized\")\n",
    "    for step in range(num_steps):\n",
    "        if step % (train_labels.shape[0] // batch_size) == 0:\n",
    "            p = np.random.permutation(train_labels.shape[0])\n",
    "            train_dataset=train_dataset[p]\n",
    "            train_labels=train_labels[p]\n",
    "\n",
    "        offset = (step * batch_size) % (train_labels.shape[0] - batch_size)\n",
    "        batch_data = train_dataset[offset:(offset + batch_size), :]\n",
    "        batch_labels = train_labels[offset:(offset + batch_size), :]\n",
    "\n",
    "        _, l, predictions = session.run([optimizer, loss, tf_predictions], feed_dict = {tf_x:batch_data, tf_labels:batch_labels})\n",
    "\n",
    "        if (step % 500 == 0):\n",
    "            print(\"Minibatch loss at step %d: %f\" % (step, l))\n",
    "            print(\"Minibatch accuracy: %.1f%%\" % accuracy(predictions, batch_labels))\n",
    "            print(\"Validation accuracy: %.1f%%\" % accuracy(tf_predictions.eval(feed_dict = {tf_x:valid_dataset}), valid_labels))\n",
    "    print(\"Test accuracy: %.1f%%\" % accuracy(tf_predictions.eval(feed_dict = {tf_x:test_dataset}), test_labels))"
   ]
  },
  {
   "cell_type": "code",
   "execution_count": 6,
   "metadata": {
    "collapsed": false
   },
   "outputs": [
    {
     "name": "stdout",
     "output_type": "stream",
     "text": [
      "Initialized\n",
      "Minibatch loss at step 0: 3459.675781\n",
      "Minibatch accuracy: 11.7%\n",
      "Validation accuracy: 33.5%\n",
      "Minibatch loss at step 500: 21.211437\n",
      "Minibatch accuracy: 86.7%\n",
      "Validation accuracy: 83.6%\n",
      "Minibatch loss at step 1000: 0.940220\n",
      "Minibatch accuracy: 82.8%\n",
      "Validation accuracy: 83.1%\n",
      "Minibatch loss at step 1500: 0.788092\n",
      "Minibatch accuracy: 82.0%\n",
      "Validation accuracy: 83.0%\n",
      "Minibatch loss at step 2000: 0.695876\n",
      "Minibatch accuracy: 81.2%\n",
      "Validation accuracy: 82.6%\n",
      "Minibatch loss at step 2500: 0.686249\n",
      "Minibatch accuracy: 85.2%\n",
      "Validation accuracy: 83.1%\n",
      "Minibatch loss at step 3000: 0.684145\n",
      "Minibatch accuracy: 84.4%\n",
      "Validation accuracy: 83.4%\n",
      "Test accuracy: 90.4%\n"
     ]
    }
   ],
   "source": [
    "# L2 regularization for neural network model.\n",
    "# After testing a range of values, the hyperparameter 0.01 was chosen to roughly maximize validation set accuracy.\n",
    "\n",
    "num_steps = 3001\n",
    "batch_size = 128\n",
    "\n",
    "def accuracy(predictions, labels):\n",
    "    return (100.0 * np.sum(np.argmax(predictions, 1) == np.argmax(labels, 1)) / predictions.shape[0])\n",
    "\n",
    "graph = tf.Graph()\n",
    "with graph.as_default():\n",
    "    tf_x = tf.placeholder(tf.float32, shape=(None, image_size * image_size))\n",
    "    tf_labels = tf.placeholder(tf.float32, shape=(None, num_labels))\n",
    "\n",
    "    w_fc1 = tf.Variable(tf.truncated_normal([image_size * image_size, 1024]))\n",
    "    b_fc1 = tf.Variable(tf.constant(0.1, shape=[1024]))\n",
    "    h_fc1 = tf.nn.relu(tf.matmul(tf_x, w_fc1) + b_fc1)\n",
    "    \n",
    "    w_fc2 = tf.Variable(tf.truncated_normal([1024, num_labels]))\n",
    "    b_fc2 = tf.Variable(tf.constant(0.1, shape=[num_labels]))\n",
    "    tf_y = tf.matmul(h_fc1, w_fc2) + b_fc2\n",
    "\n",
    "    loss = tf.reduce_mean(tf.nn.softmax_cross_entropy_with_logits(tf_y, tf_labels)) + 0.01 * (tf.nn.l2_loss(w_fc1) + tf.nn.l2_loss(w_fc2))\n",
    "    optimizer = tf.train.GradientDescentOptimizer(0.5).minimize(loss)\n",
    "\n",
    "    tf_predictions = tf.nn.softmax(tf_y)\n",
    "\n",
    "with tf.Session(graph=graph) as session:\n",
    "    tf.global_variables_initializer().run()\n",
    "    print(\"Initialized\")\n",
    "    for step in range(num_steps):\n",
    "        if step % (train_labels.shape[0] // batch_size) == 0:\n",
    "            p = np.random.permutation(train_labels.shape[0])\n",
    "            train_dataset=train_dataset[p]\n",
    "            train_labels=train_labels[p]\n",
    "\n",
    "        offset = (step * batch_size) % (train_labels.shape[0] - batch_size)\n",
    "        batch_data = train_dataset[offset:(offset + batch_size), :]\n",
    "        batch_labels = train_labels[offset:(offset + batch_size), :]\n",
    "\n",
    "        _, l, predictions = session.run([optimizer, loss, tf_predictions], feed_dict = {tf_x:batch_data, tf_labels:batch_labels})\n",
    "\n",
    "        if (step % 500 == 0):\n",
    "            print(\"Minibatch loss at step %d: %f\" % (step, l))\n",
    "            print(\"Minibatch accuracy: %.1f%%\" % accuracy(predictions, batch_labels))\n",
    "            print(\"Validation accuracy: %.1f%%\" % accuracy(tf_predictions.eval(feed_dict = {tf_x:valid_dataset}), valid_labels))\n",
    "    print(\"Test accuracy: %.1f%%\" % accuracy(tf_predictions.eval(feed_dict = {tf_x:test_dataset}), test_labels))"
   ]
  },
  {
   "cell_type": "markdown",
   "metadata": {
    "colab_type": "text",
    "id": "na8xX2yHZzNF"
   },
   "source": [
    "---\n",
    "Problem 2\n",
    "---------\n",
    "Let's demonstrate an extreme case of overfitting. Restrict your training data to just a few batches. What happens?"
   ]
  },
  {
   "cell_type": "code",
   "execution_count": 7,
   "metadata": {
    "collapsed": false
   },
   "outputs": [
    {
     "name": "stdout",
     "output_type": "stream",
     "text": [
      "Initialized\n",
      "Minibatch loss at step 0: 295.080505\n",
      "Minibatch accuracy: 14.1%\n",
      "Validation accuracy: 25.2%\n",
      "Minibatch loss at step 100: 0.000000\n",
      "Minibatch accuracy: 100.0%\n",
      "Validation accuracy: 78.0%\n",
      "Minibatch loss at step 200: 0.000000\n",
      "Minibatch accuracy: 100.0%\n",
      "Validation accuracy: 77.9%\n",
      "Minibatch loss at step 300: 0.000000\n",
      "Minibatch accuracy: 100.0%\n",
      "Validation accuracy: 78.0%\n",
      "Minibatch loss at step 400: 0.000000\n",
      "Minibatch accuracy: 100.0%\n",
      "Validation accuracy: 77.9%\n",
      "Minibatch loss at step 500: 0.000000\n",
      "Minibatch accuracy: 100.0%\n",
      "Validation accuracy: 77.9%\n",
      "Test accuracy: 85.7%\n"
     ]
    }
   ],
   "source": [
    "# Restricting our training data to only ten batches causes overfitting.\n",
    "# The minibatch accuracies quickly reach 100% as the model superficially learns all of the features in the training data.\n",
    "# However, the low and stagnant validation accuracy indicates that the model has failed to learn properly.\n",
    "\n",
    "num_steps = 501\n",
    "batch_size = 128\n",
    "\n",
    "def accuracy(predictions, labels):\n",
    "    return (100.0 * np.sum(np.argmax(predictions, 1) == np.argmax(labels, 1)) / predictions.shape[0])\n",
    "\n",
    "graph = tf.Graph()\n",
    "with graph.as_default():\n",
    "    tf_x = tf.placeholder(tf.float32, shape=(None, image_size * image_size))\n",
    "    tf_labels = tf.placeholder(tf.float32, shape=(None, num_labels))\n",
    "\n",
    "    w_fc1 = tf.Variable(tf.truncated_normal([image_size * image_size, 1024]))\n",
    "    b_fc1 = tf.Variable(tf.constant(0.1, shape=[1024]))\n",
    "    h_fc1 = tf.nn.relu(tf.matmul(tf_x, w_fc1) + b_fc1)\n",
    "    \n",
    "    w_fc2 = tf.Variable(tf.truncated_normal([1024, num_labels]))\n",
    "    b_fc2 = tf.Variable(tf.constant(0.1, shape=[num_labels]))\n",
    "    tf_y = tf.matmul(h_fc1, w_fc2) + b_fc2\n",
    "\n",
    "    loss = tf.reduce_mean(tf.nn.softmax_cross_entropy_with_logits(tf_y, tf_labels))\n",
    "    optimizer = tf.train.GradientDescentOptimizer(0.5).minimize(loss)\n",
    "\n",
    "    tf_predictions = tf.nn.softmax(tf_y)\n",
    "\n",
    "with tf.Session(graph=graph) as session:\n",
    "    tf.global_variables_initializer().run()\n",
    "    print(\"Initialized\")\n",
    "    for step in range(num_steps):\n",
    "        offset = (step % 10) * batch_size # restrict training to 10 batches\n",
    "        batch_data = train_dataset[offset:(offset + batch_size), :]\n",
    "        batch_labels = train_labels[offset:(offset + batch_size), :]\n",
    "\n",
    "        _, l, predictions = session.run([optimizer, loss, tf_predictions], feed_dict = {tf_x:batch_data, tf_labels:batch_labels})\n",
    "\n",
    "        if (step % 100 == 0):\n",
    "            print(\"Minibatch loss at step %d: %f\" % (step, l))\n",
    "            print(\"Minibatch accuracy: %.1f%%\" % accuracy(predictions, batch_labels))\n",
    "            print(\"Validation accuracy: %.1f%%\" % accuracy(tf_predictions.eval(feed_dict = {tf_x:valid_dataset}), valid_labels))\n",
    "    print(\"Test accuracy: %.1f%%\" % accuracy(tf_predictions.eval(feed_dict = {tf_x:test_dataset}), test_labels))"
   ]
  },
  {
   "cell_type": "markdown",
   "metadata": {
    "colab_type": "text",
    "id": "ww3SCBUdlkRc"
   },
   "source": [
    "---\n",
    "Problem 3\n",
    "---------\n",
    "Introduce Dropout on the hidden layer of the neural network. Remember: Dropout should only be introduced during training, not evaluation, otherwise your evaluation results would be stochastic as well. TensorFlow provides `nn.dropout()` for that, but you have to make sure it's only inserted during training.\n",
    "\n",
    "What happens to our extreme overfitting case?"
   ]
  },
  {
   "cell_type": "code",
   "execution_count": 8,
   "metadata": {
    "collapsed": false
   },
   "outputs": [
    {
     "name": "stdout",
     "output_type": "stream",
     "text": [
      "Initialized\n",
      "Minibatch loss at step 0: 480.923126\n",
      "Minibatch accuracy: 8.6%\n",
      "Validation accuracy: 26.1%\n",
      "Minibatch loss at step 100: 11.529325\n",
      "Minibatch accuracy: 94.5%\n",
      "Validation accuracy: 78.1%\n",
      "Minibatch loss at step 200: 2.366777\n",
      "Minibatch accuracy: 97.7%\n",
      "Validation accuracy: 79.1%\n",
      "Minibatch loss at step 300: 3.419254\n",
      "Minibatch accuracy: 97.7%\n",
      "Validation accuracy: 78.9%\n",
      "Minibatch loss at step 400: 0.171263\n",
      "Minibatch accuracy: 98.4%\n",
      "Validation accuracy: 79.2%\n",
      "Minibatch loss at step 500: 3.323609\n",
      "Minibatch accuracy: 95.3%\n",
      "Validation accuracy: 79.0%\n",
      "Test accuracy: 86.5%\n"
     ]
    }
   ],
   "source": [
    "# Dropout regularization reduces overfitting and improves test accuracy. \n",
    "\n",
    "num_steps = 501\n",
    "batch_size = 128\n",
    "\n",
    "def accuracy(predictions, labels):\n",
    "    return (100.0 * np.sum(np.argmax(predictions, 1) == np.argmax(labels, 1)) / predictions.shape[0])\n",
    "\n",
    "graph = tf.Graph()\n",
    "with graph.as_default():\n",
    "    \n",
    "    keep_prob=tf.placeholder(tf.float32)\n",
    "    tf_x = tf.placeholder(tf.float32, shape=(None, image_size * image_size))\n",
    "    tf_labels = tf.placeholder(tf.float32, shape=(None, num_labels))\n",
    "\n",
    "    w_fc1 = tf.Variable(tf.truncated_normal([image_size * image_size, 1024]))\n",
    "    b_fc1 = tf.Variable(tf.constant(0.1, shape=[1024]))\n",
    "    h_fc1 = tf.nn.dropout(tf.nn.relu(tf.matmul(tf_x, w_fc1) + b_fc1), keep_prob)\n",
    "    \n",
    "    w_fc2 = tf.Variable(tf.truncated_normal([1024, num_labels]))\n",
    "    b_fc2 = tf.Variable(tf.constant(0.1, shape=[num_labels]))\n",
    "    tf_y = tf.matmul(h_fc1, w_fc2) + b_fc2\n",
    "\n",
    "    loss = tf.reduce_mean(tf.nn.softmax_cross_entropy_with_logits(tf_y, tf_labels))\n",
    "    optimizer = tf.train.GradientDescentOptimizer(0.5).minimize(loss)\n",
    "\n",
    "    tf_predictions = tf.nn.softmax(tf_y)\n",
    "\n",
    "with tf.Session(graph=graph) as session:\n",
    "    tf.global_variables_initializer().run()\n",
    "    print(\"Initialized\")\n",
    "    for step in range(num_steps):\n",
    "        offset = (step % 10) * batch_size\n",
    "        batch_data = train_dataset[offset:(offset + batch_size), :]\n",
    "        batch_labels = train_labels[offset:(offset + batch_size), :]\n",
    "\n",
    "        _, l, predictions = session.run([optimizer, loss, tf_predictions], feed_dict = {tf_x:batch_data, tf_labels:batch_labels, keep_prob: 0.5})\n",
    "\n",
    "        if (step % 100 == 0):\n",
    "            print(\"Minibatch loss at step %d: %f\" % (step, l))\n",
    "            print(\"Minibatch accuracy: %.1f%%\" % accuracy(predictions, batch_labels))\n",
    "            print(\"Validation accuracy: %.1f%%\" % accuracy(tf_predictions.eval(feed_dict = {tf_x:valid_dataset, keep_prob: 1.0}), valid_labels))\n",
    "    print(\"Test accuracy: %.1f%%\" % accuracy(tf_predictions.eval(feed_dict = {tf_x:test_dataset, keep_prob: 1.0}), test_labels))"
   ]
  },
  {
   "cell_type": "markdown",
   "metadata": {
    "colab_type": "text",
    "id": "-b1hTz3VWZjw"
   },
   "source": [
    "---\n",
    "Problem 4\n",
    "---------\n",
    "\n",
    "Try to get the best performance you can using a multi-layer model! The best reported test accuracy using a deep network is [97.1%](http://yaroslavvb.blogspot.com/2011/09/notmnist-dataset.html?showComment=1391023266211#c8758720086795711595).\n",
    "\n",
    "One avenue you can explore is to add multiple layers.\n",
    "\n",
    "Another one is to use learning rate decay:\n",
    "\n",
    "    global_step = tf.Variable(0)  # count the number of steps taken.\n",
    "    learning_rate = tf.train.exponential_decay(0.5, global_step, ...)\n",
    "    optimizer = tf.train.GradientDescentOptimizer(learning_rate).minimize(loss, global_step=global_step)"
   ]
  },
  {
   "cell_type": "code",
   "execution_count": 9,
   "metadata": {
    "collapsed": false
   },
   "outputs": [
    {
     "name": "stdout",
     "output_type": "stream",
     "text": [
      "Initialized\n",
      "Learning rate at step 0: 0.001000\n",
      "Minibatch loss: 85.191391\n",
      "Minibatch accuracy: 4.7%\n",
      "Validation accuracy: 26.4%\n",
      "Learning rate at step 500: 0.000970\n",
      "Minibatch loss: 0.575379\n",
      "Minibatch accuracy: 81.2%\n",
      "Validation accuracy: 83.2%\n",
      "Learning rate at step 1000: 0.000940\n",
      "Minibatch loss: 0.604766\n",
      "Minibatch accuracy: 79.7%\n",
      "Validation accuracy: 85.0%\n",
      "Learning rate at step 1500: 0.000910\n",
      "Minibatch loss: 0.389900\n",
      "Minibatch accuracy: 87.5%\n",
      "Validation accuracy: 85.5%\n",
      "Learning rate at step 2000: 0.000880\n",
      "Minibatch loss: 0.623073\n",
      "Minibatch accuracy: 80.5%\n",
      "Validation accuracy: 85.8%\n",
      "Learning rate at step 2500: 0.000850\n",
      "Minibatch loss: 0.492281\n",
      "Minibatch accuracy: 86.7%\n",
      "Validation accuracy: 86.4%\n",
      "Learning rate at step 3000: 0.000820\n",
      "Minibatch loss: 0.372807\n",
      "Minibatch accuracy: 89.8%\n",
      "Validation accuracy: 86.7%\n",
      "Learning rate at step 3500: 0.000790\n",
      "Minibatch loss: 0.605494\n",
      "Minibatch accuracy: 82.8%\n",
      "Validation accuracy: 87.0%\n",
      "Learning rate at step 4000: 0.000760\n",
      "Minibatch loss: 0.384651\n",
      "Minibatch accuracy: 88.3%\n",
      "Validation accuracy: 87.2%\n",
      "Learning rate at step 4500: 0.000730\n",
      "Minibatch loss: 0.438538\n",
      "Minibatch accuracy: 84.4%\n",
      "Validation accuracy: 87.5%\n",
      "Learning rate at step 5000: 0.000700\n",
      "Minibatch loss: 0.515200\n",
      "Minibatch accuracy: 85.9%\n",
      "Validation accuracy: 87.6%\n",
      "Learning rate at step 5500: 0.000670\n",
      "Minibatch loss: 0.298317\n",
      "Minibatch accuracy: 89.8%\n",
      "Validation accuracy: 87.8%\n",
      "Learning rate at step 6000: 0.000640\n",
      "Minibatch loss: 0.299481\n",
      "Minibatch accuracy: 91.4%\n",
      "Validation accuracy: 88.1%\n",
      "Learning rate at step 6500: 0.000610\n",
      "Minibatch loss: 0.404855\n",
      "Minibatch accuracy: 85.2%\n",
      "Validation accuracy: 88.3%\n",
      "Learning rate at step 7000: 0.000580\n",
      "Minibatch loss: 0.479715\n",
      "Minibatch accuracy: 85.2%\n",
      "Validation accuracy: 88.4%\n",
      "Learning rate at step 7500: 0.000550\n",
      "Minibatch loss: 0.308269\n",
      "Minibatch accuracy: 90.6%\n",
      "Validation accuracy: 88.3%\n",
      "Learning rate at step 8000: 0.000520\n",
      "Minibatch loss: 0.393028\n",
      "Minibatch accuracy: 88.3%\n",
      "Validation accuracy: 88.7%\n",
      "Learning rate at step 8500: 0.000490\n",
      "Minibatch loss: 0.251281\n",
      "Minibatch accuracy: 91.4%\n",
      "Validation accuracy: 88.7%\n",
      "Learning rate at step 9000: 0.000460\n",
      "Minibatch loss: 0.389854\n",
      "Minibatch accuracy: 86.7%\n",
      "Validation accuracy: 88.7%\n",
      "Learning rate at step 9500: 0.000430\n",
      "Minibatch loss: 0.263623\n",
      "Minibatch accuracy: 92.2%\n",
      "Validation accuracy: 88.9%\n",
      "Learning rate at step 10000: 0.000400\n",
      "Minibatch loss: 0.382118\n",
      "Minibatch accuracy: 89.1%\n",
      "Validation accuracy: 89.1%\n",
      "Learning rate at step 10500: 0.000370\n",
      "Minibatch loss: 0.291052\n",
      "Minibatch accuracy: 89.8%\n",
      "Validation accuracy: 89.2%\n",
      "Learning rate at step 11000: 0.000340\n",
      "Minibatch loss: 0.229518\n",
      "Minibatch accuracy: 92.2%\n",
      "Validation accuracy: 89.2%\n",
      "Learning rate at step 11500: 0.000310\n",
      "Minibatch loss: 0.382190\n",
      "Minibatch accuracy: 88.3%\n",
      "Validation accuracy: 89.6%\n",
      "Learning rate at step 12000: 0.000280\n",
      "Minibatch loss: 0.307554\n",
      "Minibatch accuracy: 90.6%\n",
      "Validation accuracy: 89.4%\n",
      "Learning rate at step 12500: 0.000250\n",
      "Minibatch loss: 0.319780\n",
      "Minibatch accuracy: 90.6%\n",
      "Validation accuracy: 89.6%\n",
      "Learning rate at step 13000: 0.000220\n",
      "Minibatch loss: 0.186638\n",
      "Minibatch accuracy: 94.5%\n",
      "Validation accuracy: 89.8%\n",
      "Learning rate at step 13500: 0.000190\n",
      "Minibatch loss: 0.317695\n",
      "Minibatch accuracy: 92.2%\n",
      "Validation accuracy: 89.9%\n",
      "Learning rate at step 14000: 0.000160\n",
      "Minibatch loss: 0.248091\n",
      "Minibatch accuracy: 92.2%\n",
      "Validation accuracy: 89.8%\n",
      "Learning rate at step 14500: 0.000130\n",
      "Minibatch loss: 0.333680\n",
      "Minibatch accuracy: 88.3%\n",
      "Validation accuracy: 89.9%\n",
      "Learning rate at step 15000: 0.000100\n",
      "Minibatch loss: 0.397407\n",
      "Minibatch accuracy: 84.4%\n",
      "Validation accuracy: 90.1%\n",
      "Test accuracy: 95.7%\n"
     ]
    }
   ],
   "source": [
    "##### Neural network with two fully connected hidden layers, featuring 512 and 64 neurons.\n",
    "# Using dropout + max norm regularization, linear learning rate decay, and AdamOptimizer.\n",
    "\n",
    "num_steps = 15001\n",
    "batch_size = 128\n",
    "clip_norm = 1\n",
    "\n",
    "def accuracy(predictions, labels):\n",
    "    return (100.0 * np.sum(np.argmax(predictions, 1) == np.argmax(labels, 1)) / predictions.shape[0])\n",
    "\n",
    "graph = tf.Graph()\n",
    "with graph.as_default():\n",
    "    global_step = tf.Variable(0)\n",
    "    learning_rate = tf.train.polynomial_decay(1e-3, global_step, num_steps, 1e-4)\n",
    "    \n",
    "    keep_prob=tf.placeholder(tf.float32)\n",
    "    tf_x = tf.placeholder(tf.float32, shape=(None, image_size * image_size))\n",
    "    tf_labels = tf.placeholder(tf.float32, shape=(None, num_labels))\n",
    "\n",
    "    w_fc1 = tf.Variable(tf.truncated_normal([image_size * image_size, 512]))\n",
    "    b_fc1 = tf.Variable(tf.constant(0.1, shape=[512]))\n",
    "    h_fc1 = tf.nn.dropout(tf.nn.relu(tf.matmul(tf_x, w_fc1) + b_fc1), keep_prob)\n",
    "    \n",
    "    w_fc2 = tf.Variable(tf.truncated_normal([512, 64]))\n",
    "    b_fc2 = tf.Variable(tf.constant(0.1, shape=[64]))\n",
    "    h_fc2 = tf.nn.dropout(tf.nn.relu(tf.matmul(h_fc1, w_fc2) + b_fc2), keep_prob)\n",
    "\n",
    "    w_fc3 = tf.Variable(tf.truncated_normal([64, num_labels]))\n",
    "    b_fc3 = tf.Variable(tf.constant(0.1, shape=[num_labels]))\n",
    "    tf_y = tf.matmul(h_fc2, w_fc3) + b_fc3\n",
    "\n",
    "    with tf.control_dependencies([w_fc1.assign(tf.clip_by_norm(w_fc1, clip_norm, axes=1)), \n",
    "                                  w_fc2.assign(tf.clip_by_norm(w_fc2, clip_norm, axes=1)), \n",
    "                                  w_fc3.assign(tf.clip_by_norm(w_fc3, clip_norm, axes=1))]):\n",
    "        loss = tf.reduce_mean(tf.nn.softmax_cross_entropy_with_logits(tf_y, tf_labels))\n",
    "        optimizer = tf.train.AdamOptimizer(learning_rate).minimize(loss, global_step)\n",
    "        tf_predictions = tf.nn.softmax(tf_y)\n",
    "\n",
    "with tf.Session(graph=graph) as session:\n",
    "    tf.global_variables_initializer().run()\n",
    "    print(\"Initialized\")\n",
    "    for step in range(num_steps):\n",
    "        if step % (train_labels.shape[0] // batch_size) == 0:\n",
    "            p = np.random.permutation(train_labels.shape[0])\n",
    "            train_dataset = train_dataset[p]\n",
    "            train_labels = train_labels[p]\n",
    "            \n",
    "        offset = (step * batch_size) % (train_labels.shape[0] - batch_size)\n",
    "        batch_data = train_dataset[offset:(offset + batch_size), :]\n",
    "        batch_labels = train_labels[offset:(offset + batch_size), :]\n",
    "\n",
    "        _, l, predictions, lr = session.run([optimizer, loss, tf_predictions, learning_rate], feed_dict = {tf_x:batch_data, tf_labels:batch_labels, keep_prob: 0.8})\n",
    "\n",
    "        if (step % 500 == 0):\n",
    "            print(\"Learning rate at step %d: %f\" % (step, lr))\n",
    "            print(\"Minibatch loss: %f\" % l)\n",
    "            print(\"Minibatch accuracy: %.1f%%\" % accuracy(predictions, batch_labels))\n",
    "            print(\"Validation accuracy: %.1f%%\" % accuracy(tf_predictions.eval(feed_dict = {tf_x:valid_dataset, keep_prob: 1.0}), valid_labels))\n",
    "    print(\"Test accuracy: %.1f%%\" % accuracy(tf_predictions.eval(feed_dict = {tf_x:test_dataset, keep_prob: 1.0}), test_labels))"
   ]
  },
  {
   "cell_type": "code",
   "execution_count": null,
   "metadata": {
    "collapsed": true
   },
   "outputs": [],
   "source": []
  }
 ],
 "metadata": {
  "colab": {
   "default_view": {},
   "name": "3_regularization.ipynb",
   "provenance": [],
   "version": "0.3.2",
   "views": {}
  },
  "kernelspec": {
   "display_name": "Python 3",
   "language": "python",
   "name": "python3"
  },
  "language_info": {
   "codemirror_mode": {
    "name": "ipython",
    "version": 3
   },
   "file_extension": ".py",
   "mimetype": "text/x-python",
   "name": "python",
   "nbconvert_exporter": "python",
   "pygments_lexer": "ipython3",
   "version": "3.5.2"
  }
 },
 "nbformat": 4,
 "nbformat_minor": 0
}
