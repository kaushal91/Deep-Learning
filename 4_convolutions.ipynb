{
 "cells": [
  {
   "cell_type": "markdown",
   "metadata": {
    "colab_type": "text",
    "id": "4embtkV0pNxM"
   },
   "source": [
    "Deep Learning\n",
    "=============\n",
    "\n",
    "Assignment 4\n",
    "------------\n",
    "\n",
    "Previously in `2_fullyconnected.ipynb` and `3_regularization.ipynb`, we trained fully connected networks to classify [notMNIST](http://yaroslavvb.blogspot.com/2011/09/notmnist-dataset.html) characters.\n",
    "\n",
    "The goal of this assignment is make the neural network convolutional."
   ]
  },
  {
   "cell_type": "code",
   "execution_count": 1,
   "metadata": {
    "cellView": "both",
    "colab": {
     "autoexec": {
      "startup": false,
      "wait_interval": 0
     }
    },
    "colab_type": "code",
    "collapsed": true,
    "id": "tm2CQN_Cpwj0"
   },
   "outputs": [],
   "source": [
    "# These are all the modules we'll be using later. Make sure you can import them\n",
    "# before proceeding further.\n",
    "from __future__ import print_function\n",
    "import numpy as np\n",
    "import tensorflow as tf\n",
    "from six.moves import cPickle as pickle\n",
    "from six.moves import range"
   ]
  },
  {
   "cell_type": "code",
   "execution_count": 2,
   "metadata": {
    "cellView": "both",
    "colab": {
     "autoexec": {
      "startup": false,
      "wait_interval": 0
     },
     "output_extras": [
      {
       "item_id": 1
      }
     ]
    },
    "colab_type": "code",
    "collapsed": false,
    "executionInfo": {
     "elapsed": 11948,
     "status": "ok",
     "timestamp": 1446658914837,
     "user": {
      "color": "",
      "displayName": "",
      "isAnonymous": false,
      "isMe": true,
      "permissionId": "",
      "photoUrl": "",
      "sessionId": "0",
      "userId": ""
     },
     "user_tz": 480
    },
    "id": "y3-cj1bpmuxc",
    "outputId": "016b1a51-0290-4b08-efdb-8c95ffc3cd01"
   },
   "outputs": [
    {
     "name": "stdout",
     "output_type": "stream",
     "text": [
      "Training set (200000, 28, 28) (200000,)\n",
      "Validation set (10000, 28, 28) (10000,)\n",
      "Test set (10000, 28, 28) (10000,)\n"
     ]
    }
   ],
   "source": [
    "pickle_file = 'notMNIST.pickle'\n",
    "\n",
    "with open(pickle_file, 'rb') as f:\n",
    "  save = pickle.load(f)\n",
    "  train_dataset = save['train_dataset']\n",
    "  train_labels = save['train_labels']\n",
    "  valid_dataset = save['valid_dataset']\n",
    "  valid_labels = save['valid_labels']\n",
    "  test_dataset = save['test_dataset']\n",
    "  test_labels = save['test_labels']\n",
    "  del save  # hint to help gc free up memory\n",
    "  print('Training set', train_dataset.shape, train_labels.shape)\n",
    "  print('Validation set', valid_dataset.shape, valid_labels.shape)\n",
    "  print('Test set', test_dataset.shape, test_labels.shape)"
   ]
  },
  {
   "cell_type": "markdown",
   "metadata": {
    "colab_type": "text",
    "id": "L7aHrm6nGDMB"
   },
   "source": [
    "Reformat into a TensorFlow-friendly shape:\n",
    "- convolutions need the image data formatted as a cube (width by height by #channels)\n",
    "- labels as float 1-hot encodings."
   ]
  },
  {
   "cell_type": "code",
   "execution_count": 3,
   "metadata": {
    "cellView": "both",
    "colab": {
     "autoexec": {
      "startup": false,
      "wait_interval": 0
     },
     "output_extras": [
      {
       "item_id": 1
      }
     ]
    },
    "colab_type": "code",
    "collapsed": false,
    "executionInfo": {
     "elapsed": 11952,
     "status": "ok",
     "timestamp": 1446658914857,
     "user": {
      "color": "",
      "displayName": "",
      "isAnonymous": false,
      "isMe": true,
      "permissionId": "",
      "photoUrl": "",
      "sessionId": "0",
      "userId": ""
     },
     "user_tz": 480
    },
    "id": "IRSyYiIIGIzS",
    "outputId": "650a208c-8359-4852-f4f5-8bf10e80ef6c"
   },
   "outputs": [
    {
     "name": "stdout",
     "output_type": "stream",
     "text": [
      "Training set (200000, 28, 28, 1) (200000, 10)\n",
      "Validation set (10000, 28, 28, 1) (10000, 10)\n",
      "Test set (10000, 28, 28, 1) (10000, 10)\n"
     ]
    }
   ],
   "source": [
    "image_size = 28\n",
    "num_labels = 10\n",
    "num_channels = 1 # grayscale\n",
    "\n",
    "import numpy as np\n",
    "\n",
    "def reformat(dataset, labels):\n",
    "  dataset = dataset.reshape(\n",
    "    (-1, image_size, image_size, num_channels)).astype(np.float32)\n",
    "  labels = (np.arange(num_labels) == labels[:,None]).astype(np.float32)\n",
    "  return dataset, labels\n",
    "train_dataset, train_labels = reformat(train_dataset, train_labels)\n",
    "valid_dataset, valid_labels = reformat(valid_dataset, valid_labels)\n",
    "test_dataset, test_labels = reformat(test_dataset, test_labels)\n",
    "print('Training set', train_dataset.shape, train_labels.shape)\n",
    "print('Validation set', valid_dataset.shape, valid_labels.shape)\n",
    "print('Test set', test_dataset.shape, test_labels.shape)"
   ]
  },
  {
   "cell_type": "code",
   "execution_count": 4,
   "metadata": {
    "cellView": "both",
    "colab": {
     "autoexec": {
      "startup": false,
      "wait_interval": 0
     }
    },
    "colab_type": "code",
    "collapsed": true,
    "id": "AgQDIREv02p1"
   },
   "outputs": [],
   "source": [
    "def accuracy(predictions, labels):\n",
    "  return (100.0 * np.sum(np.argmax(predictions, 1) == np.argmax(labels, 1))\n",
    "          / predictions.shape[0])"
   ]
  },
  {
   "cell_type": "markdown",
   "metadata": {
    "colab_type": "text",
    "id": "5rhgjmROXu2O"
   },
   "source": [
    "Let's build a small network with two convolutional layers, followed by one fully connected layer. Convolutional networks are more expensive computationally, so we'll limit its depth and number of fully connected nodes."
   ]
  },
  {
   "cell_type": "code",
   "execution_count": 5,
   "metadata": {
    "collapsed": false
   },
   "outputs": [],
   "source": [
    "batch_size = 16\n",
    "patch_size = 5\n",
    "depth = 16\n",
    "num_hidden = 64\n",
    "\n",
    "graph = tf.Graph()\n",
    "\n",
    "with graph.as_default():\n",
    "\n",
    "  # Input data.\n",
    "  tf_train_dataset = tf.placeholder(\n",
    "    tf.float32, shape=(batch_size, image_size, image_size, num_channels))\n",
    "  tf_train_labels = tf.placeholder(tf.float32, shape=(batch_size, num_labels))\n",
    "  tf_valid_dataset = tf.constant(valid_dataset)\n",
    "  tf_test_dataset = tf.constant(test_dataset)\n",
    "  \n",
    "  # Variables.\n",
    "  layer1_weights = tf.Variable(tf.truncated_normal(\n",
    "      [patch_size, patch_size, num_channels, depth], stddev=0.1))\n",
    "  layer1_biases = tf.Variable(tf.zeros([depth]))\n",
    "  layer2_weights = tf.Variable(tf.truncated_normal(\n",
    "      [patch_size, patch_size, depth, depth], stddev=0.1))\n",
    "  layer2_biases = tf.Variable(tf.constant(1.0, shape=[depth]))\n",
    "  layer3_weights = tf.Variable(tf.truncated_normal(\n",
    "      [image_size // 4 * image_size // 4 * depth, num_hidden], stddev=0.1))\n",
    "  layer3_biases = tf.Variable(tf.constant(1.0, shape=[num_hidden]))\n",
    "  layer4_weights = tf.Variable(tf.truncated_normal(\n",
    "      [num_hidden, num_labels], stddev=0.1))\n",
    "  layer4_biases = tf.Variable(tf.constant(1.0, shape=[num_labels]))\n",
    "  \n",
    "  # Model.\n",
    "  def model(data):\n",
    "    conv = tf.nn.conv2d(data, layer1_weights, [1, 2, 2, 1], padding='SAME')\n",
    "    hidden = tf.nn.relu(conv + layer1_biases)\n",
    "    conv = tf.nn.conv2d(hidden, layer2_weights, [1, 2, 2, 1], padding='SAME')\n",
    "    hidden = tf.nn.relu(conv + layer2_biases)\n",
    "    shape = hidden.get_shape().as_list()\n",
    "    reshape = tf.reshape(hidden, [shape[0], shape[1] * shape[2] * shape[3]])\n",
    "    hidden = tf.nn.relu(tf.matmul(reshape, layer3_weights) + layer3_biases)\n",
    "    return tf.matmul(hidden, layer4_weights) + layer4_biases\n",
    "  \n",
    "  # Training computation.\n",
    "  logits = model(tf_train_dataset)\n",
    "  loss = tf.reduce_mean(\n",
    "    tf.nn.softmax_cross_entropy_with_logits(logits, tf_train_labels))\n",
    "    \n",
    "  # Optimizer.\n",
    "  optimizer = tf.train.GradientDescentOptimizer(0.05).minimize(loss)\n",
    "  \n",
    "  # Predictions for the training, validation, and test data.\n",
    "  train_prediction = tf.nn.softmax(logits)\n",
    "  valid_prediction = tf.nn.softmax(model(tf_valid_dataset))\n",
    "  test_prediction = tf.nn.softmax(model(tf_test_dataset))"
   ]
  },
  {
   "cell_type": "code",
   "execution_count": 6,
   "metadata": {
    "collapsed": false
   },
   "outputs": [
    {
     "name": "stdout",
     "output_type": "stream",
     "text": [
      "Initialized\n",
      "Minibatch loss at step 0: 4.359201\n",
      "Minibatch accuracy: 12.5%\n",
      "Validation accuracy: 9.4%\n",
      "Minibatch loss at step 50: 1.637075\n",
      "Minibatch accuracy: 37.5%\n",
      "Validation accuracy: 48.9%\n",
      "Minibatch loss at step 100: 0.945852\n",
      "Minibatch accuracy: 62.5%\n",
      "Validation accuracy: 68.7%\n",
      "Minibatch loss at step 150: 0.362923\n",
      "Minibatch accuracy: 87.5%\n",
      "Validation accuracy: 76.0%\n",
      "Minibatch loss at step 200: 0.801311\n",
      "Minibatch accuracy: 81.2%\n",
      "Validation accuracy: 77.9%\n",
      "Minibatch loss at step 250: 1.134007\n",
      "Minibatch accuracy: 68.8%\n",
      "Validation accuracy: 77.3%\n",
      "Minibatch loss at step 300: 0.393165\n",
      "Minibatch accuracy: 87.5%\n",
      "Validation accuracy: 79.3%\n",
      "Minibatch loss at step 350: 0.541325\n",
      "Minibatch accuracy: 93.8%\n",
      "Validation accuracy: 77.5%\n",
      "Minibatch loss at step 400: 0.227111\n",
      "Minibatch accuracy: 100.0%\n",
      "Validation accuracy: 80.8%\n",
      "Minibatch loss at step 450: 0.843726\n",
      "Minibatch accuracy: 81.2%\n",
      "Validation accuracy: 79.9%\n",
      "Minibatch loss at step 500: 0.701028\n",
      "Minibatch accuracy: 81.2%\n",
      "Validation accuracy: 80.9%\n",
      "Minibatch loss at step 550: 0.766058\n",
      "Minibatch accuracy: 81.2%\n",
      "Validation accuracy: 80.3%\n",
      "Minibatch loss at step 600: 0.288810\n",
      "Minibatch accuracy: 87.5%\n",
      "Validation accuracy: 81.2%\n",
      "Minibatch loss at step 650: 0.950147\n",
      "Minibatch accuracy: 87.5%\n",
      "Validation accuracy: 81.7%\n",
      "Minibatch loss at step 700: 0.878630\n",
      "Minibatch accuracy: 62.5%\n",
      "Validation accuracy: 82.0%\n",
      "Minibatch loss at step 750: 0.048460\n",
      "Minibatch accuracy: 100.0%\n",
      "Validation accuracy: 82.5%\n",
      "Minibatch loss at step 800: 0.696624\n",
      "Minibatch accuracy: 75.0%\n",
      "Validation accuracy: 82.5%\n",
      "Minibatch loss at step 850: 1.042435\n",
      "Minibatch accuracy: 75.0%\n",
      "Validation accuracy: 81.3%\n",
      "Minibatch loss at step 900: 0.573628\n",
      "Minibatch accuracy: 87.5%\n",
      "Validation accuracy: 83.1%\n",
      "Minibatch loss at step 950: 0.607006\n",
      "Minibatch accuracy: 87.5%\n",
      "Validation accuracy: 82.5%\n",
      "Minibatch loss at step 1000: 0.426027\n",
      "Minibatch accuracy: 87.5%\n",
      "Validation accuracy: 82.4%\n",
      "Test accuracy: 89.4%\n"
     ]
    }
   ],
   "source": [
    "num_steps = 1001\n",
    "\n",
    "with tf.Session(graph=graph) as session:\n",
    "  tf.global_variables_initializer().run()\n",
    "  print('Initialized')\n",
    "  for step in range(num_steps):\n",
    "    offset = (step * batch_size) % (train_labels.shape[0] - batch_size)\n",
    "    batch_data = train_dataset[offset:(offset + batch_size), :, :, :]\n",
    "    batch_labels = train_labels[offset:(offset + batch_size), :]\n",
    "    feed_dict = {tf_train_dataset : batch_data, tf_train_labels : batch_labels}\n",
    "    _, l, predictions = session.run(\n",
    "      [optimizer, loss, train_prediction], feed_dict=feed_dict)\n",
    "    if (step % 50 == 0):\n",
    "      print('Minibatch loss at step %d: %f' % (step, l))\n",
    "      print('Minibatch accuracy: %.1f%%' % accuracy(predictions, batch_labels))\n",
    "      print('Validation accuracy: %.1f%%' % accuracy(\n",
    "        valid_prediction.eval(), valid_labels))\n",
    "  print('Test accuracy: %.1f%%' % accuracy(test_prediction.eval(), test_labels))"
   ]
  },
  {
   "cell_type": "markdown",
   "metadata": {
    "colab_type": "text",
    "id": "KedKkn4EutIK"
   },
   "source": [
    "---\n",
    "Problem 1\n",
    "---------\n",
    "\n",
    "The convolutional model above uses convolutions with stride 2 to reduce the dimensionality. Replace the strides by a max pooling operation (`nn.max_pool()`) of stride 2 and kernel size 2."
   ]
  },
  {
   "cell_type": "code",
   "execution_count": 7,
   "metadata": {
    "collapsed": false
   },
   "outputs": [],
   "source": [
    "# Max pooling introduced in the function 'model'\n",
    "\n",
    "batch_size = 16\n",
    "patch_size = 5\n",
    "depth = 16\n",
    "num_hidden = 64\n",
    "\n",
    "graph = tf.Graph()\n",
    "\n",
    "with graph.as_default():\n",
    "\n",
    "  # Input data.\n",
    "  tf_train_dataset = tf.placeholder(\n",
    "    tf.float32, shape=(batch_size, image_size, image_size, num_channels))\n",
    "  tf_train_labels = tf.placeholder(tf.float32, shape=(batch_size, num_labels))\n",
    "  tf_valid_dataset = tf.constant(valid_dataset)\n",
    "  tf_test_dataset = tf.constant(test_dataset)\n",
    "  \n",
    "  # Variables.\n",
    "  layer1_weights = tf.Variable(tf.truncated_normal(\n",
    "      [patch_size, patch_size, num_channels, depth], stddev=0.1))\n",
    "  layer1_biases = tf.Variable(tf.zeros([depth]))\n",
    "  layer2_weights = tf.Variable(tf.truncated_normal(\n",
    "      [patch_size, patch_size, depth, depth], stddev=0.1))\n",
    "  layer2_biases = tf.Variable(tf.constant(1.0, shape=[depth]))\n",
    "  layer3_weights = tf.Variable(tf.truncated_normal(\n",
    "      [image_size // 4 * image_size // 4 * depth, num_hidden], stddev=0.1))\n",
    "  layer3_biases = tf.Variable(tf.constant(1.0, shape=[num_hidden]))\n",
    "  layer4_weights = tf.Variable(tf.truncated_normal(\n",
    "      [num_hidden, num_labels], stddev=0.1))\n",
    "  layer4_biases = tf.Variable(tf.constant(1.0, shape=[num_labels]))\n",
    "  \n",
    "  # Model.\n",
    "  def model(data):\n",
    "    conv = tf.nn.conv2d(data, layer1_weights, [1, 1, 1, 1], padding='SAME')\n",
    "    hidden = tf.nn.relu(conv + layer1_biases)\n",
    "    pool = tf.nn.max_pool(hidden, [1, 2, 2, 1], [1, 2, 2, 1], 'SAME') # max pooling\n",
    "    conv = tf.nn.conv2d(hidden, layer2_weights, [1, 2, 2, 1], padding='SAME')\n",
    "    hidden = tf.nn.relu(conv + layer2_biases)\n",
    "    pool = tf.nn.max_pool(hidden, [1, 2, 2, 1], [1, 2, 2, 1], 'SAME') # max pooling\n",
    "    shape = pool.get_shape().as_list()\n",
    "    reshape = tf.reshape(pool, [shape[0], shape[1] * shape[2] * shape[3]])\n",
    "    hidden = tf.nn.relu(tf.matmul(reshape, layer3_weights) + layer3_biases)\n",
    "    return tf.matmul(hidden, layer4_weights) + layer4_biases\n",
    "  \n",
    "  # Training computation.\n",
    "  logits = model(tf_train_dataset)\n",
    "  loss = tf.reduce_mean(\n",
    "    tf.nn.softmax_cross_entropy_with_logits(logits, tf_train_labels))\n",
    "    \n",
    "  # Optimizer.\n",
    "  optimizer = tf.train.GradientDescentOptimizer(0.05).minimize(loss)\n",
    "  \n",
    "  # Predictions for the training, validation, and test data.\n",
    "  train_prediction = tf.nn.softmax(logits)\n",
    "  valid_prediction = tf.nn.softmax(model(tf_valid_dataset))\n",
    "  test_prediction = tf.nn.softmax(model(tf_test_dataset))"
   ]
  },
  {
   "cell_type": "markdown",
   "metadata": {
    "colab_type": "text",
    "id": "klf21gpbAgb-"
   },
   "source": [
    "---\n",
    "Problem 2\n",
    "---------\n",
    "\n",
    "Try to get the best performance you can using a convolutional net. Look for example at the classic [LeNet5](http://yann.lecun.com/exdb/lenet/) architecture, adding Dropout, and/or adding learning rate decay."
   ]
  },
  {
   "cell_type": "code",
   "execution_count": null,
   "metadata": {
    "collapsed": true
   },
   "outputs": [],
   "source": [
    "# Inception module: 1x1 conv, 1x1 conv with 3x3 conv, 1x1 conv with 5x5 conv, and 3x3 pool with 1x1 conv, in parallel.\n",
    "# Using dropout + max norm regularization, linear learning rate decay, and AdamOptimizer.\n",
    "# Works, but too resource intensive for my computer.\n",
    "\n",
    "num_steps=1001\n",
    "\n",
    "graph = tf.Graph()\n",
    "with graph.as_default():\n",
    "    depth = 16\n",
    "    clip_norm = 1\n",
    "    global_step = tf.Variable(0)\n",
    "    learning_rate = tf.train.exponential_decay(1e-4, global_step, num_steps, 0.01)\n",
    "\n",
    "    keep_prob=tf.placeholder(tf.float32)\n",
    "    tf_x = tf.placeholder(tf.float32, shape=(None, image_size, image_size, num_channels))\n",
    "    tf_labels = tf.placeholder(tf.float32, shape=(None, num_labels))\n",
    "\n",
    "    w1a_conv1x1 = tf.Variable(tf.truncated_normal([1, 1, num_channels, depth], stddev=0.1))\n",
    "    b1a_conv1x1 = tf.Variable(tf.constant(0.1, shape=[depth]))\n",
    "    h1a_conv1x1 = tf.nn.relu(tf.nn.conv2d(tf_x, w1a_conv1x1, [1, 1, 1, 1], 'SAME') + b1a_conv1x1)\n",
    "    \n",
    "    w1b_conv1x1 = tf.Variable(tf.truncated_normal([1, 1, num_channels, num_channels], stddev=0.1))\n",
    "    b1b_conv1x1 = tf.Variable(tf.constant(0.1, shape=[num_channels]))\n",
    "    h1b_conv1x1 = tf.nn.relu(tf.nn.conv2d(tf_x, w1b_conv1x1, [1, 1, 1, 1], 'SAME') + b1b_conv1x1)\n",
    "    w1b_conv3x3 = tf.Variable(tf.truncated_normal([3, 3, num_channels, depth], stddev=0.1))\n",
    "    b1b_conv3x3 = tf.Variable(tf.constant(0.1, shape=[depth]))\n",
    "    h1b_conv3x3 = tf.nn.relu(tf.nn.conv2d(tf_x, w1b_conv3x3, [1, 1, 1, 1], 'SAME') + b1b_conv3x3)\n",
    "\n",
    "    w1c_conv1x1 = tf.Variable(tf.truncated_normal([1, 1, num_channels, num_channels], stddev=0.1))\n",
    "    b1c_conv1x1 = tf.Variable(tf.constant(0.1, shape=[num_channels]))\n",
    "    h1c_conv1x1 = tf.nn.relu(tf.nn.conv2d(tf_x, w1c_conv1x1, [1, 1, 1, 1], 'SAME') + b1c_conv1x1)\n",
    "    w1c_conv5x5 = tf.Variable(tf.truncated_normal([5, 5, num_channels, depth], stddev=0.1))\n",
    "    b1c_conv5x5 = tf.Variable(tf.constant(0.1, shape=[depth]))\n",
    "    h1c_conv5x5 = tf.nn.relu(tf.nn.conv2d(tf_x, w1c_conv5x5, [1, 1, 1, 1], 'SAME') + b1c_conv5x5)\n",
    "    \n",
    "    w1d_pool3x3 = tf.nn.max_pool(tf_x, [1, 3, 3, 1], [1, 3, 3, 1], 'SAME')\n",
    "    w1d_conv1x1 = tf.Variable(tf.truncated_normal([1, 1, num_channels, depth], stddev=0.1))\n",
    "    b1d_conv1x1 = tf.Variable(tf.constant(0.1, shape=[depth]))\n",
    "    h1d_conv1x1 = tf.nn.relu(tf.nn.conv2d(w1d_pool3x3, w1d_conv1x1, [1, 1, 1, 1], 'SAME') + b1d_conv1x1)\n",
    "    \n",
    "    h1a_conv1x1_flat = tf.reshape(h1a_conv1x1, [-1, image_size * image_size * depth])\n",
    "    h1b_conv3x3_flat = tf.reshape(h1b_conv3x3, [-1, image_size * image_size * depth])\n",
    "    h1c_conv5x5_flat = tf.reshape(h1c_conv5x5, [-1, image_size * image_size * depth])\n",
    "    h1d_conv1x1_flat = tf.reshape(h1d_conv1x1, [-1, (image_size // 3 + 1) * (image_size // 3 + 1) * depth])\n",
    "    \n",
    "    h1_flat = tf.nn.dropout(tf.concat_v2([h1a_conv1x1_flat, h1b_conv3x3_flat, h1c_conv5x5_flat, h1d_conv1x1_flat], 1), keep_prob)\n",
    "    \n",
    "    w2_fc = tf.Variable(tf.truncated_normal([h1_flat.get_shape().as_list()[1], 64], stddev=0.1))\n",
    "    b2_fc = tf.Variable(tf.constant(0.1, shape=[64]))\n",
    "    h2_fc = tf.nn.dropout(tf.nn.relu(tf.matmul(h1_flat, w2_fc) + b2_fc), keep_prob)\n",
    "\n",
    "    w3_fc = tf.Variable(tf.truncated_normal([64, num_labels], stddev=0.1))\n",
    "    b3_fc = tf.Variable(tf.constant(0.1, shape=[num_labels]))\n",
    "    tf_y = tf.nn.relu(tf.matmul(h2_fc, w3_fc) + b3_fc)\n",
    "\n",
    "    with tf.control_dependencies([w2_fc.assign(tf.clip_by_norm(w2_fc, clip_norm, axes=1)),\n",
    "                                  w3_fc.assign(tf.clip_by_norm(w3_fc, clip_norm, axes=1))]):\n",
    "        loss = tf.reduce_mean(tf.nn.softmax_cross_entropy_with_logits(tf_y, tf_labels))\n",
    "        optimizer = tf.train.AdamOptimizer(learning_rate).minimize(loss, global_step)\n",
    "        tf_predictions = tf.nn.softmax(tf_y)\n",
    "\n",
    "with tf.Session(graph=graph) as session:\n",
    "    num_steps = 1001\n",
    "    batch_size = 16\n",
    "    tf.global_variables_initializer().run()\n",
    "    print(\"Initialized\")\n",
    "    \n",
    "    for step in range(num_steps):\n",
    "        if step % (train_labels.shape[0] // batch_size) == 0:\n",
    "            p = np.random.permutation(train_labels.shape[0])\n",
    "            train_dataset=train_dataset[p]\n",
    "            train_labels=train_labels[p]\n",
    "\n",
    "        offset = (step * batch_size) % (train_labels.shape[0] - batch_size)\n",
    "        batch_data = train_dataset[offset:(offset + batch_size), :, :, :]\n",
    "        batch_labels = train_labels[offset:(offset + batch_size), :]\n",
    "\n",
    "        _, l, predictions, lr = session.run([optimizer, loss, tf_predictions, learning_rate], feed_dict = {tf_x: batch_data, tf_labels: batch_labels, keep_prob: 0.8})\n",
    "\n",
    "        if (step % 50 == 0):\n",
    "            print(\"Learning rate at step %d: %f\" % (step, lr))\n",
    "            print(\"Minibatch loss: %f\" % l)\n",
    "            print(\"Minibatch accuracy: %.1f%%\" % accuracy(predictions, batch_labels))\n",
    "            print(\"Validation accuracy: %.1f%%\" % accuracy(tf_predictions.eval(feed_dict = {tf_x: valid_dataset, keep_prob: 1.0}), valid_labels))\n",
    "            \n",
    "    print(\"Test accuracy: %.1f%%\" % accuracy(tf_predictions.eval(feed_dict = {tf_x:test_dataset, keep_prob: 1.0}), test_labels))"
   ]
  },
  {
   "cell_type": "code",
   "execution_count": null,
   "metadata": {
    "collapsed": true
   },
   "outputs": [],
   "source": []
  }
 ],
 "metadata": {
  "colab": {
   "default_view": {},
   "name": "4_convolutions.ipynb",
   "provenance": [],
   "version": "0.3.2",
   "views": {}
  },
  "kernelspec": {
   "display_name": "Python 3",
   "language": "python",
   "name": "python3"
  },
  "language_info": {
   "codemirror_mode": {
    "name": "ipython",
    "version": 3
   },
   "file_extension": ".py",
   "mimetype": "text/x-python",
   "name": "python",
   "nbconvert_exporter": "python",
   "pygments_lexer": "ipython3",
   "version": "3.5.2"
  }
 },
 "nbformat": 4,
 "nbformat_minor": 0
}
